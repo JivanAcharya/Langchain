{
 "cells": [
  {
   "cell_type": "code",
   "execution_count": 4,
   "metadata": {},
   "outputs": [],
   "source": [
    "from langchain_community.document_loaders import TextLoader\n",
    "docs = TextLoader(\"test.txt\").load()"
   ]
  },
  {
   "cell_type": "code",
   "execution_count": 6,
   "metadata": {},
   "outputs": [
    {
     "name": "stderr",
     "output_type": "stream",
     "text": [
      "Created a chunk of size 1012, which is longer than the specified 100\n",
      "Created a chunk of size 621, which is longer than the specified 100\n",
      "Created a chunk of size 424, which is longer than the specified 100\n",
      "Created a chunk of size 434, which is longer than the specified 100\n",
      "Created a chunk of size 418, which is longer than the specified 100\n",
      "Created a chunk of size 457, which is longer than the specified 100\n"
     ]
    },
    {
     "data": {
      "text/plain": [
       "[Document(metadata={'source': 'test.txt'}, page_content='Do you remember the last time you wrote an essay by yourself? When you wrote an article? Completed an academic assignment without any external help? And for computer science students: When did you last open and read a book? Have you noticed how often you find yourself chatting with ChatGPT or other AI tools, even for the most basic questions? This method of obtaining information, bypassing the hassle of sifting through multiple web pages, PDFs, books, and references, has undoubtedly streamlined our lives. However, it’s crucial to recognize that it may be dulling our brains day by day. Have we forgotten the thrill we get when we find a piece of information that were weren’t even looking for, the joy of finding something useless at that moment but that strikes our brain and makes us ponder a bit about this vast universe, the joy of looking for clues hidden in multiple sources. Let’s delve deeper into what we’re calling “The ChatGPT Effect.”\\nThe Instant Gratification Trap\\ninstant gratification image'),\n",
       " Document(metadata={'source': 'test.txt'}, page_content='In an era where instant gratification is the norm, AI tools like ChatGPT have become our go-to for quick answers. They provide immediate solutions, saving us time and effort. However, this convenience comes at a cost. By relying heavily on AI for even the simplest queries, we miss out on the deeper learning experiences that come from traditional research. Reading through different sources, critically analyzing information, and synthesizing knowledge are vital cognitive processes that help develop our problem-solving skills and intellectual agility.\\nDecline of Critical Thinking and Creativity\\ndecline on creativity'),\n",
       " Document(metadata={'source': 'test.txt'}, page_content='One of the most significant impacts of the ChatGPT Effect is the potential decline in critical thinking skills. When we depend on AI to think for us, we lose the ability to evaluate information critically. AI tools provide answers, but they don’t teach us how to question, doubt, or verify. This lack of critical engagement can make us more susceptible to misinformation and reduce our ability to form well-rounded opinions.'),\n",
       " Document(metadata={'source': 'test.txt'}, page_content='Creativity thrives on challenges, mistakes, and the journey of discovery. By outsourcing our creative tasks to AI, we risk losing the ability to think outside the box. Writing an essay, composing music, or solving a complex problem involves a series of trial and error that fuels innovation. AI may offer quick fixes, but it can’t replicate the creative process that arises from human ingenuity.\\nDigital Dependency\\ndigital dependency'),\n",
       " Document(metadata={'source': 'test.txt'}, page_content='Our growing dependency on AI tools also raises concerns about digital dependency. The ease of access to AI-generated content can create a false sense of productivity, masking the fact that we’re becoming increasingly passive consumers of information. This dependency can lead to a decline in our ability to learn independently and make informed decisions without external assistance.\\nFinding a Balance\\nfinding balance'),\n",
       " Document(metadata={'source': 'test.txt'}, page_content='While AI tools like ChatGPT offer undeniable benefits, it’s essential to find a balance. Incorporating AI into our lives doesn’t mean we should abandon traditional learning methods. Instead, we should use AI as a complementary tool to enhance our knowledge and skills. Engaging in activities that challenge our cognitive abilities, such as reading books, solving puzzles, and participating in discussions, can help counteract the potential negative effects.'),\n",
       " Document(metadata={'source': 'test.txt'}, page_content='The ChatGPT Effect is a wake-up call to reassess how we interact with AI tools. While they offer remarkable convenience, we must be mindful of their impact on our cognitive abilities. By striking a balance between using AI and engaging in traditional learning methods, we can ensure that we continue to grow intellectually and creatively. Let’s embrace AI as an ally, not a crutch, and strive to keep our brains sharp in this digital age.')]"
      ]
     },
     "execution_count": 6,
     "metadata": {},
     "output_type": "execute_result"
    }
   ],
   "source": [
    "from langchain_text_splitters import  CharacterTextSplitter\n",
    "\n",
    "text_splitter = CharacterTextSplitter(separator ='\\n\\n', chunk_size = 100, chunk_overlap = 20)\n",
    "text_splitter.split_documents(docs)"
   ]
  },
  {
   "cell_type": "code",
   "execution_count": 8,
   "metadata": {},
   "outputs": [
    {
     "name": "stderr",
     "output_type": "stream",
     "text": [
      "Created a chunk of size 1012, which is longer than the specified 100\n",
      "Created a chunk of size 621, which is longer than the specified 100\n",
      "Created a chunk of size 424, which is longer than the specified 100\n",
      "Created a chunk of size 434, which is longer than the specified 100\n",
      "Created a chunk of size 418, which is longer than the specified 100\n",
      "Created a chunk of size 457, which is longer than the specified 100\n"
     ]
    },
    {
     "name": "stdout",
     "output_type": "stream",
     "text": [
      "page_content='Do you remember the last time you wrote an essay by yourself? When you wrote an article? Completed an academic assignment without any external help? And for computer science students: When did you last open and read a book? Have you noticed how often you find yourself chatting with ChatGPT or other AI tools, even for the most basic questions? This method of obtaining information, bypassing the hassle of sifting through multiple web pages, PDFs, books, and references, has undoubtedly streamlined our lives. However, it’s crucial to recognize that it may be dulling our brains day by day. Have we forgotten the thrill we get when we find a piece of information that were weren’t even looking for, the joy of finding something useless at that moment but that strikes our brain and makes us ponder a bit about this vast universe, the joy of looking for clues hidden in multiple sources. Let’s delve deeper into what we’re calling “The ChatGPT Effect.”\n",
      "The Instant Gratification Trap\n",
      "instant gratification image'\n",
      "page_content='In an era where instant gratification is the norm, AI tools like ChatGPT have become our go-to for quick answers. They provide immediate solutions, saving us time and effort. However, this convenience comes at a cost. By relying heavily on AI for even the simplest queries, we miss out on the deeper learning experiences that come from traditional research. Reading through different sources, critically analyzing information, and synthesizing knowledge are vital cognitive processes that help develop our problem-solving skills and intellectual agility.\n",
      "Decline of Critical Thinking and Creativity\n",
      "decline on creativity'\n"
     ]
    }
   ],
   "source": [
    "test =\"\"\n",
    "\n",
    "with open(\"test.txt\") as f:\n",
    "    test = f.read()\n",
    "text_splitter = CharacterTextSplitter(chunk_size = 100, chunk_overlap = 20)\n",
    "text = text_splitter.create_documents([test])\n",
    "print(text[0])\n",
    "print(text[1])"
   ]
  },
  {
   "cell_type": "code",
   "execution_count": null,
   "metadata": {},
   "outputs": [],
   "source": []
  }
 ],
 "metadata": {
  "kernelspec": {
   "display_name": "Python 3",
   "language": "python",
   "name": "python3"
  },
  "language_info": {
   "codemirror_mode": {
    "name": "ipython",
    "version": 3
   },
   "file_extension": ".py",
   "mimetype": "text/x-python",
   "name": "python",
   "nbconvert_exporter": "python",
   "pygments_lexer": "ipython3",
   "version": "3.10.0"
  }
 },
 "nbformat": 4,
 "nbformat_minor": 2
}
