{
 "cells": [
  {
   "cell_type": "code",
   "execution_count": 1,
   "metadata": {},
   "outputs": [],
   "source": [
    "import json\n",
    "import requests\n",
    "\n",
    "json_data = requests.get(\"https://api.github.com/repos/ansible/ansible/releases/latest\").json()\n"
   ]
  },
  {
   "cell_type": "code",
   "execution_count": 2,
   "metadata": {},
   "outputs": [
    {
     "data": {
      "text/plain": [
       "{'url': 'https://api.github.com/repos/ansible/ansible/releases/174198434',\n",
       " 'assets_url': 'https://api.github.com/repos/ansible/ansible/releases/174198434/assets',\n",
       " 'upload_url': 'https://uploads.github.com/repos/ansible/ansible/releases/174198434/assets{?name,label}',\n",
       " 'html_url': 'https://github.com/ansible/ansible/releases/tag/v2.17.4',\n",
       " 'id': 174198434,\n",
       " 'author': {'login': 'sivel',\n",
       "  'id': 39340,\n",
       "  'node_id': 'MDQ6VXNlcjM5MzQw',\n",
       "  'avatar_url': 'https://avatars.githubusercontent.com/u/39340?v=4',\n",
       "  'gravatar_id': '',\n",
       "  'url': 'https://api.github.com/users/sivel',\n",
       "  'html_url': 'https://github.com/sivel',\n",
       "  'followers_url': 'https://api.github.com/users/sivel/followers',\n",
       "  'following_url': 'https://api.github.com/users/sivel/following{/other_user}',\n",
       "  'gists_url': 'https://api.github.com/users/sivel/gists{/gist_id}',\n",
       "  'starred_url': 'https://api.github.com/users/sivel/starred{/owner}{/repo}',\n",
       "  'subscriptions_url': 'https://api.github.com/users/sivel/subscriptions',\n",
       "  'organizations_url': 'https://api.github.com/users/sivel/orgs',\n",
       "  'repos_url': 'https://api.github.com/users/sivel/repos',\n",
       "  'events_url': 'https://api.github.com/users/sivel/events{/privacy}',\n",
       "  'received_events_url': 'https://api.github.com/users/sivel/received_events',\n",
       "  'type': 'User',\n",
       "  'site_admin': False},\n",
       " 'node_id': 'RE_kwDOADeGtM4KYg6i',\n",
       " 'tag_name': 'v2.17.4',\n",
       " 'target_commitish': '9e5294563d0d112f3a396ef60d37d274caae28b7',\n",
       " 'name': 'v2.17.4',\n",
       " 'draft': False,\n",
       " 'prerelease': False,\n",
       " 'created_at': '2024-09-09T19:26:24Z',\n",
       " 'published_at': '2024-09-09T19:29:25Z',\n",
       " 'assets': [],\n",
       " 'tarball_url': 'https://api.github.com/repos/ansible/ansible/tarball/v2.17.4',\n",
       " 'zipball_url': 'https://api.github.com/repos/ansible/ansible/zipball/v2.17.4',\n",
       " 'body': '# Changelog\\r\\n\\r\\nSee the [full changelog](https://github.com/ansible/ansible/blob/v2.17.4/changelogs/CHANGELOG-v2.17.rst) for the changes included in this release.\\r\\n\\r\\n# Release Artifacts\\r\\n* Built Distribution: [ansible_core-2.17.4-py3-none-any.whl](https://files.pythonhosted.org/packages/0e/dc/709ec31a443819e60b340f39b0123be9b5cdcca26c2c2d6048175607d56b/ansible_core-2.17.4-py3-none-any.whl) - &zwnj;2193692 bytes\\r\\n  * a36c9ab8e84d5d51f9fffe389d6ac7e81c8d0df6af8c12429ddbb71e8d69b21e (SHA256)\\r\\n* Source Distribution: [ansible_core-2.17.4.tar.gz](https://files.pythonhosted.org/packages/bd/69/86d9c9247f20ea2928195ed13d443aee410f32bcc45454ddf095bf25a140/ansible_core-2.17.4.tar.gz) - &zwnj;3096630 bytes\\r\\n  * 44a1f30076796536ba2455cad18d36e62870f04e632e3ca2ebe970d7beacf24d (SHA256)',\n",
       " 'reactions': {'url': 'https://api.github.com/repos/ansible/ansible/releases/174198434/reactions',\n",
       "  'total_count': 3,\n",
       "  '+1': 3,\n",
       "  '-1': 0,\n",
       "  'laugh': 0,\n",
       "  'hooray': 0,\n",
       "  'confused': 0,\n",
       "  'heart': 0,\n",
       "  'rocket': 0,\n",
       "  'eyes': 0}}"
      ]
     },
     "execution_count": 2,
     "metadata": {},
     "output_type": "execute_result"
    }
   ],
   "source": [
    "json_data"
   ]
  },
  {
   "cell_type": "code",
   "execution_count": 4,
   "metadata": {},
   "outputs": [],
   "source": [
    "from langchain_text_splitters import RecursiveJsonSplitter\n",
    "\n",
    "json_splitter = RecursiveJsonSplitter(max_chunk_size=300)\n",
    "json_chunks = json_splitter.split_json(json_data)"
   ]
  },
  {
   "cell_type": "code",
   "execution_count": 5,
   "metadata": {},
   "outputs": [
    {
     "name": "stdout",
     "output_type": "stream",
     "text": [
      "{'url': 'https://api.github.com/repos/ansible/ansible/releases/174198434', 'assets_url': 'https://api.github.com/repos/ansible/ansible/releases/174198434/assets', 'upload_url': 'https://uploads.github.com/repos/ansible/ansible/releases/174198434/assets{?name,label}'}\n",
      "{'html_url': 'https://github.com/ansible/ansible/releases/tag/v2.17.4', 'id': 174198434, 'author': {'login': 'sivel', 'id': 39340, 'node_id': 'MDQ6VXNlcjM5MzQw', 'avatar_url': 'https://avatars.githubusercontent.com/u/39340?v=4', 'gravatar_id': '', 'url': 'https://api.github.com/users/sivel'}}\n",
      "{'author': {'html_url': 'https://github.com/sivel', 'followers_url': 'https://api.github.com/users/sivel/followers', 'following_url': 'https://api.github.com/users/sivel/following{/other_user}', 'gists_url': 'https://api.github.com/users/sivel/gists{/gist_id}'}}\n"
     ]
    }
   ],
   "source": [
    "for chunk in json_chunks[:3]:\n",
    "    print(chunk)\n",
    "    "
   ]
  },
  {
   "cell_type": "code",
   "execution_count": 6,
   "metadata": {},
   "outputs": [
    {
     "name": "stdout",
     "output_type": "stream",
     "text": [
      "page_content='{\"url\": \"https://api.github.com/repos/ansible/ansible/releases/174198434\", \"assets_url\": \"https://api.github.com/repos/ansible/ansible/releases/174198434/assets\", \"upload_url\": \"https://uploads.github.com/repos/ansible/ansible/releases/174198434/assets{?name,label}\"}'\n",
      "page_content='{\"html_url\": \"https://github.com/ansible/ansible/releases/tag/v2.17.4\", \"id\": 174198434, \"author\": {\"login\": \"sivel\", \"id\": 39340, \"node_id\": \"MDQ6VXNlcjM5MzQw\", \"avatar_url\": \"https://avatars.githubusercontent.com/u/39340?v=4\", \"gravatar_id\": \"\", \"url\": \"https://api.github.com/users/sivel\"}}'\n",
      "page_content='{\"author\": {\"html_url\": \"https://github.com/sivel\", \"followers_url\": \"https://api.github.com/users/sivel/followers\", \"following_url\": \"https://api.github.com/users/sivel/following{/other_user}\", \"gists_url\": \"https://api.github.com/users/sivel/gists{/gist_id}\"}}'\n"
     ]
    }
   ],
   "source": [
    "docs = json_splitter.create_documents(texts =[json_data])\n",
    "for doc in docs[:3]:\n",
    "    print(doc)"
   ]
  },
  {
   "cell_type": "code",
   "execution_count": 7,
   "metadata": {},
   "outputs": [
    {
     "name": "stdout",
     "output_type": "stream",
     "text": [
      "{\"url\": \"https://api.github.com/repos/ansible/ansible/releases/174198434\", \"assets_url\": \"https://api.github.com/repos/ansible/ansible/releases/174198434/assets\", \"upload_url\": \"https://uploads.github.com/repos/ansible/ansible/releases/174198434/assets{?name,label}\"}\n",
      "{\"html_url\": \"https://github.com/ansible/ansible/releases/tag/v2.17.4\", \"id\": 174198434, \"author\": {\"login\": \"sivel\", \"id\": 39340, \"node_id\": \"MDQ6VXNlcjM5MzQw\", \"avatar_url\": \"https://avatars.githubusercontent.com/u/39340?v=4\", \"gravatar_id\": \"\", \"url\": \"https://api.github.com/users/sivel\"}}\n"
     ]
    }
   ],
   "source": [
    "texts = json_splitter.split_text(json_data)\n",
    "print(texts[0])\n",
    "print(texts[1])"
   ]
  },
  {
   "cell_type": "code",
   "execution_count": null,
   "metadata": {},
   "outputs": [],
   "source": []
  }
 ],
 "metadata": {
  "kernelspec": {
   "display_name": "Python 3",
   "language": "python",
   "name": "python3"
  },
  "language_info": {
   "codemirror_mode": {
    "name": "ipython",
    "version": 3
   },
   "file_extension": ".py",
   "mimetype": "text/x-python",
   "name": "python",
   "nbconvert_exporter": "python",
   "pygments_lexer": "ipython3",
   "version": "3.10.0"
  }
 },
 "nbformat": 4,
 "nbformat_minor": 2
}
