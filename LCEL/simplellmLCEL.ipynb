{
 "cells": [
  {
   "cell_type": "code",
   "execution_count": 4,
   "metadata": {},
   "outputs": [],
   "source": [
    "import os\n",
    "from dotenv import load_dotenv\n",
    "load_dotenv()\n",
    "groq_api_key = os.getenv(\"GROQ_API_KEY\")\n"
   ]
  },
  {
   "cell_type": "code",
   "execution_count": 5,
   "metadata": {},
   "outputs": [
    {
     "data": {
      "text/plain": [
       "ChatGroq(client=<groq.resources.chat.completions.Completions object at 0x707e2ef571f0>, async_client=<groq.resources.chat.completions.AsyncCompletions object at 0x707e2ef57310>, model_name='Gemma2-9b-It', model_kwargs={}, groq_api_key=SecretStr('**********'))"
      ]
     },
     "execution_count": 5,
     "metadata": {},
     "output_type": "execute_result"
    }
   ],
   "source": [
    "from langchain_groq import ChatGroq\n",
    "model =ChatGroq(model=\"Gemma2-9b-It\",groq_api_key=groq_api_key)\n",
    "model"
   ]
  },
  {
   "cell_type": "code",
   "execution_count": 7,
   "metadata": {},
   "outputs": [],
   "source": [
    "from langchain_core.messages import HumanMessage, SystemMessage\n",
    "\n",
    "messages = [\n",
    "    SystemMessage(content = \"Tranlate the following from English to German\"),\n",
    "    HumanMessage(content = \"Hello How are you?\"),\n",
    "]\n",
    "\n",
    "result = model.invoke(messages)"
   ]
  },
  {
   "cell_type": "code",
   "execution_count": 9,
   "metadata": {},
   "outputs": [
    {
     "data": {
      "text/plain": [
       "'Here\\'s the translation, along with some notes on how to say it naturally:\\n\\n**Formal:**\\n\\n* **Hallo! Wie geht es Ihnen?** (This is the most polite way to ask \"How are you?\" in German)\\n\\n**Informal:**\\n\\n* **Hallo! Wie geht\\'s?** (This is more casual and used with friends and family)\\n\\n**Important Notes:**\\n\\n* In German, you often use the formal \"Sie\" (You - formal) with people you don\\'t know well, people in positions of authority, or when showing respect.  \"Du\" (You - informal) is used with close friends and family.\\n* The word \"Hallo\" is the standard greeting in German, similar to \"Hello\" in English. \\n\\n\\n\\nLet me know if you have any other phrases you\\'d like help translating!\\n'"
      ]
     },
     "execution_count": 9,
     "metadata": {},
     "output_type": "execute_result"
    }
   ],
   "source": [
    "from langchain_core.output_parsers import StrOutputParser\n",
    "\n",
    "output_parser = StrOutputParser()\n",
    "output_parser.invoke(result)"
   ]
  },
  {
   "cell_type": "code",
   "execution_count": 10,
   "metadata": {},
   "outputs": [
    {
     "data": {
      "text/plain": [
       "'Here are a couple of ways to say \"Hello, How are you?\" in German:\\n\\n**Formal:**\\n\\n* **Guten Tag, wie geht es Ihnen?** (Good day, how are you?)\\n\\n**Informal:**\\n\\n* **Hallo, wie geht\\'s?** (Hello, how are you?)\\n\\n\\nLet me know if you\\'d like to know more German greetings!\\n'"
      ]
     },
     "execution_count": 10,
     "metadata": {},
     "output_type": "execute_result"
    }
   ],
   "source": [
    "# Using LCEL we can chain the components\n",
    "\n",
    "chain = model | output_parser\n",
    "chain.invoke(messages)"
   ]
  },
  {
   "cell_type": "code",
   "execution_count": 12,
   "metadata": {},
   "outputs": [],
   "source": [
    "## Prompt Templates\n",
    "from langchain_core.prompts import ChatPromptTemplate\n",
    "\n",
    "generic_template = \"Tranlate the following into {language}\"\n",
    "prompt = ChatPromptTemplate.from_messages([\n",
    "    (\"system\",generic_template),\n",
    "    (\"user\",\"{text}\"),\n",
    "])"
   ]
  },
  {
   "cell_type": "code",
   "execution_count": 14,
   "metadata": {},
   "outputs": [],
   "source": [
    "result = prompt.invoke({\"language\":\"German\",\"text\":\"Hello How are you?\"})\n"
   ]
  },
  {
   "cell_type": "code",
   "execution_count": 15,
   "metadata": {},
   "outputs": [
    {
     "data": {
      "text/plain": [
       "[SystemMessage(content='Tranlate the following into German', additional_kwargs={}, response_metadata={}),\n",
       " HumanMessage(content='Hello How are you?', additional_kwargs={}, response_metadata={})]"
      ]
     },
     "execution_count": 15,
     "metadata": {},
     "output_type": "execute_result"
    }
   ],
   "source": [
    "result.to_messages()"
   ]
  },
  {
   "cell_type": "code",
   "execution_count": 16,
   "metadata": {},
   "outputs": [
    {
     "data": {
      "text/plain": [
       "'Here are a couple of ways to say \"Hello, how are you?\" in German:\\n\\n**Formal:**\\n\\n* **Hallo, wie geht es Ihnen?** (pronounced: HAL-loh, vee gayt es EE-nen?)\\n\\n**Informal:**\\n\\n* **Hallo, wie geht\\'s?** (pronounced: HAL-loh, vee gays?)\\n\\n\\nLet me know if you\\'d like to know how to say something else in German! \\n'"
      ]
     },
     "execution_count": 16,
     "metadata": {},
     "output_type": "execute_result"
    }
   ],
   "source": [
    "chain = prompt | model | output_parser\n",
    "chain.invoke({\"language\":\"German\",\"text\":\"Hello How are you?\"})"
   ]
  },
  {
   "cell_type": "code",
   "execution_count": null,
   "metadata": {},
   "outputs": [],
   "source": []
  }
 ],
 "metadata": {
  "kernelspec": {
   "display_name": "Python 3",
   "language": "python",
   "name": "python3"
  },
  "language_info": {
   "codemirror_mode": {
    "name": "ipython",
    "version": 3
   },
   "file_extension": ".py",
   "mimetype": "text/x-python",
   "name": "python",
   "nbconvert_exporter": "python",
   "pygments_lexer": "ipython3",
   "version": "3.10.0"
  }
 },
 "nbformat": 4,
 "nbformat_minor": 2
}
